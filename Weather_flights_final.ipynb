{
 "cells": [
  {
   "cell_type": "code",
   "execution_count": 7,
   "id": "3519d6bb-7779-4ad6-92a7-f5600ff82668",
   "metadata": {
    "tags": []
   },
   "outputs": [],
   "source": [
    "import pandas as pd\n",
    "import requests\n",
    "import sqlalchemy\n",
    "import sam_stuff\n",
    "from datetime import timedelta, datetime\n",
    "from pytz import timezone\n",
    "from IPython.display import JSON"
   ]
  },
  {
   "cell_type": "markdown",
   "id": "8bac0ea1-920b-4529-92fd-2553d588f36a",
   "metadata": {},
   "source": [
    "## Get connection to SQL"
   ]
  },
  {
   "cell_type": "code",
   "execution_count": 9,
   "id": "03f832a5-ac69-4abe-81f5-1a41746345ee",
   "metadata": {
    "tags": []
   },
   "outputs": [],
   "source": [
    "def get_connection_string():\n",
    "    schema = \"gans\"\n",
    "    host = \"127.0.0.1\"\n",
    "    user = \"root\"\n",
    "    password = sam_stuff.my_sql_password\n",
    "    port = 3306\n",
    "    \n",
    "    connection_string = f'mysql+pymysql://{user}:{password}@{host}:{port}/{schema}'\n",
    "    return connection_string"
   ]
  },
  {
   "cell_type": "markdown",
   "id": "a9e4730d-0f5a-4070-883b-33a5d730cea2",
   "metadata": {},
   "source": [
    "## Get Weather"
   ]
  },
  {
   "cell_type": "code",
   "execution_count": 11,
   "id": "8f12735c-695e-4bbe-a9d5-242edacab07c",
   "metadata": {
    "tags": []
   },
   "outputs": [],
   "source": [
    "berlin_timezone = timezone('Europe/Berlin')\n",
    "API_key = sam_stuff.my_API_key"
   ]
  },
  {
   "cell_type": "code",
   "execution_count": 13,
   "id": "bd3b1c77-8012-4fda-98a9-38884185906a",
   "metadata": {
    "tags": []
   },
   "outputs": [],
   "source": [
    "def get_city():\n",
    "    con_string = get_connection_string()\n",
    "    city_df = pd.read_sql('city',con=con_string)\n",
    "    return city_df"
   ]
  },
  {
   "cell_type": "code",
   "execution_count": 15,
   "id": "0266114a-c8f0-4b3c-ab9d-878a3f6c94af",
   "metadata": {
    "tags": []
   },
   "outputs": [],
   "source": [
    "city_df = get_city()"
   ]
  },
  {
   "cell_type": "code",
   "execution_count": 17,
   "id": "39a31ca5-dcb7-4983-98a1-dbc8a30698d8",
   "metadata": {
    "tags": []
   },
   "outputs": [
    {
     "data": {
      "text/html": [
       "<div>\n",
       "<style scoped>\n",
       "    .dataframe tbody tr th:only-of-type {\n",
       "        vertical-align: middle;\n",
       "    }\n",
       "\n",
       "    .dataframe tbody tr th {\n",
       "        vertical-align: top;\n",
       "    }\n",
       "\n",
       "    .dataframe thead th {\n",
       "        text-align: right;\n",
       "    }\n",
       "</style>\n",
       "<table border=\"1\" class=\"dataframe\">\n",
       "  <thead>\n",
       "    <tr style=\"text-align: right;\">\n",
       "      <th></th>\n",
       "      <th>city_id</th>\n",
       "      <th>city</th>\n",
       "      <th>country</th>\n",
       "      <th>population</th>\n",
       "      <th>latitude</th>\n",
       "      <th>longitude</th>\n",
       "    </tr>\n",
       "  </thead>\n",
       "  <tbody>\n",
       "    <tr>\n",
       "      <th>0</th>\n",
       "      <td>1</td>\n",
       "      <td>Berlin</td>\n",
       "      <td>Germany</td>\n",
       "      <td>3755251</td>\n",
       "      <td>52°31′12″N</td>\n",
       "      <td>13°24′18″E</td>\n",
       "    </tr>\n",
       "    <tr>\n",
       "      <th>1</th>\n",
       "      <td>2</td>\n",
       "      <td>London</td>\n",
       "      <td>England</td>\n",
       "      <td>8799800</td>\n",
       "      <td>51°30′26″N</td>\n",
       "      <td>0°7′39″W</td>\n",
       "    </tr>\n",
       "  </tbody>\n",
       "</table>\n",
       "</div>"
      ],
      "text/plain": [
       "   city_id    city  country  population    latitude   longitude\n",
       "0        1  Berlin  Germany     3755251  52°31′12″N  13°24′18″E\n",
       "1        2  London  England     8799800  51°30′26″N    0°7′39″W"
      ]
     },
     "execution_count": 17,
     "metadata": {},
     "output_type": "execute_result"
    }
   ],
   "source": [
    "city_df"
   ]
  },
  {
   "cell_type": "code",
   "execution_count": 43,
   "id": "4414fab3-3c44-4c3f-a265-74c9f0b184b2",
   "metadata": {
    "tags": []
   },
   "outputs": [],
   "source": [
    "#create the function:\n",
    "\n",
    "def get_and_store_weather_data(city_df):\n",
    "# create a dictionary with keys (same as sql) with empty list inside before the loop.\n",
    "    weather_items = {\n",
    "        \"city_id\":[],  #*\n",
    "        \"city\": [],\n",
    "        \"forecast_time\": [],\n",
    "        \"temperature\": [],\n",
    "        \"feels_like\": [],\n",
    "        \"forecast\": [],\n",
    "        \"rain_in_last_3h\": [],\n",
    "        \"wind_speed\": [],\n",
    "        \"data_retrieved_at\": [],\n",
    "    }\n",
    "# do url request for so many cities as we have in the list.\n",
    "    for i, row in city_df.iterrows():\n",
    "        url = (f\"http://api.openweathermap.org/data/2.5/forecast?q={row['city']}&appid={API_key}&units=metric\")\n",
    "        # instead of give \"city\", we need to go inside the row and get the city name. {row[\"city\"]}\n",
    "        response = requests.get(url)\n",
    "        weather_json = response.json()\n",
    "        my_timestamp = datetime.now(berlin_timezone).strftime(\"%Y-%m-%d %H:%M:%S\")   # we will not change if it is london, in this case, we dont care\n",
    "\n",
    "        # for loop throu \n",
    "        for item in weather_json[\"list\"][:8]:\n",
    "            weather_items['city_id'].append(row['city_id']),  #*\n",
    "            weather_items['city'].append(row['city']),  #*\n",
    "            weather_items[\"forecast_time\"].append(item.get('dt_txt',None)),\n",
    "            weather_items[\"temperature\"].append(item[\"main\"].get(\"temp\", None)),\n",
    "            weather_items[\"feels_like\"].append(item[\"main\"].get(\"feels_like\", None)),\n",
    "            weather_items[\"forecast\"].append(item[\"weather\"][0].get(\"main\", None)),\n",
    "            weather_items[\"rain_in_last_3h\"].append(item.get(\"rain\", {}).get(\"3h\", 0)),\n",
    "            weather_items[\"wind_speed\"].append(item[\"wind\"].get(\"speed\", None)),\n",
    "            weather_items['data_retrieved_at'].append(my_timestamp)\n",
    "  \n",
    "    weather_df = pd.DataFrame(weather_items)\n",
    "\n",
    "    #* when we create this weather_df, we cant connect it to our primary key in our city_df table in sql. As in sql city table, the primary key is city_id.\n",
    "    #* So we need this information to be able to connect weather_df to city table.  \n",
    "    #* so we need to add \"city_id\" to our dictionary.\n",
    "    #* We append also the \"city_id\" in our for loop. And we get it from city_df: instead of city_id, we get (row[\"city_id\"])\n",
    " \n",
    "    # to send it to sql:\n",
    "    my_con = get_connection_string()\n",
    "    weather_df.to_sql('weather',if_exists='append',con=my_con,index=False)"
   ]
  },
  {
   "cell_type": "code",
   "execution_count": 39,
   "id": "cee4f00a-791e-4627-a8c7-0c9181af8217",
   "metadata": {
    "tags": []
   },
   "outputs": [],
   "source": [
    "get_and_store_weather_data(city_df)"
   ]
  },
  {
   "cell_type": "markdown",
   "id": "a16d584f-70ea-47e7-ba43-c440f2eb72a2",
   "metadata": {},
   "source": [
    "## Get Flights"
   ]
  },
  {
   "cell_type": "code",
   "execution_count": 12,
   "id": "0f5db7b7-cbe0-4d10-ae26-fe46eab35ed4",
   "metadata": {},
   "outputs": [],
   "source": [
    "def get_airports():\n",
    "    connection_string = get_connection_string()\n",
    "    airports_df = pd.read_sql('airport',con=connection_string)\n",
    "    return airports_df"
   ]
  },
  {
   "cell_type": "code",
   "execution_count": 13,
   "id": "29e00b41-bc17-4703-b62e-f7ae2fa819a6",
   "metadata": {},
   "outputs": [
    {
     "data": {
      "text/html": [
       "<div>\n",
       "<style scoped>\n",
       "    .dataframe tbody tr th:only-of-type {\n",
       "        vertical-align: middle;\n",
       "    }\n",
       "\n",
       "    .dataframe tbody tr th {\n",
       "        vertical-align: top;\n",
       "    }\n",
       "\n",
       "    .dataframe thead th {\n",
       "        text-align: right;\n",
       "    }\n",
       "</style>\n",
       "<table border=\"1\" class=\"dataframe\">\n",
       "  <thead>\n",
       "    <tr style=\"text-align: right;\">\n",
       "      <th></th>\n",
       "      <th>ICAO</th>\n",
       "      <th>city_id</th>\n",
       "    </tr>\n",
       "  </thead>\n",
       "  <tbody>\n",
       "    <tr>\n",
       "      <th>0</th>\n",
       "      <td>EDDB</td>\n",
       "      <td>1</td>\n",
       "    </tr>\n",
       "    <tr>\n",
       "      <th>1</th>\n",
       "      <td>EGLL</td>\n",
       "      <td>2</td>\n",
       "    </tr>\n",
       "  </tbody>\n",
       "</table>\n",
       "</div>"
      ],
      "text/plain": [
       "   ICAO  city_id\n",
       "0  EDDB        1\n",
       "1  EGLL        2"
      ]
     },
     "execution_count": 13,
     "metadata": {},
     "output_type": "execute_result"
    }
   ],
   "source": [
    "airports_df = get_airports()\n",
    "airports_df"
   ]
  },
  {
   "cell_type": "code",
   "execution_count": 14,
   "id": "ed317732-b122-4522-a4ed-ae426ec06cff",
   "metadata": {},
   "outputs": [],
   "source": [
    "def get_and_store_flights(airports_df):\n",
    "\n",
    "    #connection_string = get_connection_string()\n",
    "    \n",
    "    now = datetime.now()\n",
    "    tomorrow = now + timedelta(days=1)\n",
    "    tomorrow = tomorrow.strftime('%Y-%m-%d')\n",
    "    \n",
    "    times_lists = [{'from':'00:00','to':'11:59'},{'from':'12:00','to':'23:59'}]\n",
    "    \n",
    "    flights_dict = {\n",
    "            'ICAO':[],\n",
    "            'from_city':[],\n",
    "            'arrival_time':[],\n",
    "            'airline':[],\n",
    "            'terminal':[],\n",
    "            'flight_status':[]}\n",
    "    \n",
    "    for i, row in airports_df.iterrows():\n",
    "        for time in times_lists:\n",
    "            \n",
    "            url = f\"https://aerodatabox.p.rapidapi.com/flights/airports/icao/{row['ICAO']}/{tomorrow}T{time['from']}/{tomorrow}T{time['to']}\"\n",
    "            querystring = {\"withLeg\":\"true\",\"withCancelled\":\"true\",\"withCodeshared\":\"true\",\"withCargo\":\"true\",\"withPrivate\":\"true\",\"withLocation\":\"false\"}\n",
    "            headers = {\n",
    "                \"X-RapidAPI-Key\": \"14a44098c8mshe4536a007985112p1e3b4bjsn8fd805eb6bd4\",\n",
    "                \"X-RapidAPI-Host\": \"aerodatabox.p.rapidapi.com\"\n",
    "            }\n",
    "            response = requests.get(url, headers=headers, params=querystring)\n",
    "            \n",
    "            my_json = response.json()\n",
    "            \n",
    "            for flight in my_json['arrivals']:\n",
    "                flights_dict['ICAO'].append(row['ICAO'])\n",
    "                flights_dict['arrival_time'].append(flight['arrival'].get('scheduledTime',{}).get('local',None))\n",
    "                flights_dict['from_city'].append(flight['departure'].get('airport',{}).get('name','unknown'))\n",
    "                flights_dict['airline'].append(flight['airline'].get('name',None))\n",
    "                flights_dict['terminal'].append(flight['arrival'].get('terminal','unknown'))\n",
    "                flights_dict['flight_status'].append(flight.get('status',None))\n",
    "        \n",
    "    flight_df = pd.DataFrame(flights_dict)\n",
    "    flight_df['arrival_time'] = flight_df['arrival_time'].str[:-6]\n",
    "    flight_df.to_sql('flight',con=connection_string,index=False,if_exists='append')"
   ]
  },
  {
   "cell_type": "code",
   "execution_count": 15,
   "id": "874c3193-cd45-4bc7-83ac-103b730e655a",
   "metadata": {
    "tags": []
   },
   "outputs": [
    {
     "ename": "NameError",
     "evalue": "name 'connection_string' is not defined",
     "output_type": "error",
     "traceback": [
      "\u001b[1;31m---------------------------------------------------------------------------\u001b[0m",
      "\u001b[1;31mNameError\u001b[0m                                 Traceback (most recent call last)",
      "Cell \u001b[1;32mIn[15], line 1\u001b[0m\n\u001b[1;32m----> 1\u001b[0m get_and_store_flights(get_airports())\n",
      "Cell \u001b[1;32mIn[14], line 42\u001b[0m, in \u001b[0;36mget_and_store_flights\u001b[1;34m(airports_df)\u001b[0m\n\u001b[0;32m     40\u001b[0m flight_df \u001b[38;5;241m=\u001b[39m pd\u001b[38;5;241m.\u001b[39mDataFrame(flights_dict)\n\u001b[0;32m     41\u001b[0m flight_df[\u001b[38;5;124m'\u001b[39m\u001b[38;5;124marrival_time\u001b[39m\u001b[38;5;124m'\u001b[39m] \u001b[38;5;241m=\u001b[39m flight_df[\u001b[38;5;124m'\u001b[39m\u001b[38;5;124marrival_time\u001b[39m\u001b[38;5;124m'\u001b[39m]\u001b[38;5;241m.\u001b[39mstr[:\u001b[38;5;241m-\u001b[39m\u001b[38;5;241m6\u001b[39m]\n\u001b[1;32m---> 42\u001b[0m flight_df\u001b[38;5;241m.\u001b[39mto_sql(\u001b[38;5;124m'\u001b[39m\u001b[38;5;124mflight\u001b[39m\u001b[38;5;124m'\u001b[39m,con\u001b[38;5;241m=\u001b[39mconnection_string,index\u001b[38;5;241m=\u001b[39m\u001b[38;5;28;01mFalse\u001b[39;00m,if_exists\u001b[38;5;241m=\u001b[39m\u001b[38;5;124m'\u001b[39m\u001b[38;5;124mappend\u001b[39m\u001b[38;5;124m'\u001b[39m)\n",
      "\u001b[1;31mNameError\u001b[0m: name 'connection_string' is not defined"
     ]
    }
   ],
   "source": [
    "get_and_store_flights(get_airports())"
   ]
  }
 ],
 "metadata": {
  "kernelspec": {
   "display_name": "Python 3 (ipykernel)",
   "language": "python",
   "name": "python3"
  },
  "language_info": {
   "codemirror_mode": {
    "name": "ipython",
    "version": 3
   },
   "file_extension": ".py",
   "mimetype": "text/x-python",
   "name": "python",
   "nbconvert_exporter": "python",
   "pygments_lexer": "ipython3",
   "version": "3.11.7"
  }
 },
 "nbformat": 4,
 "nbformat_minor": 5
}
