{
 "cells": [
  {
   "cell_type": "code",
   "execution_count": 3,
   "id": "60f578c2-3d73-4046-83ac-aa6cd27a756d",
   "metadata": {
    "tags": []
   },
   "outputs": [],
   "source": [
    "import pandas as pd\n",
    "import requests\n",
    "from bs4 import BeautifulSoup\n",
    "import re\n",
    "import sam_stuff_cloud"
   ]
  },
  {
   "cell_type": "markdown",
   "id": "5d878379-03b5-4128-992f-9f0ab8d9bd58",
   "metadata": {},
   "source": [
    "## City"
   ]
  },
  {
   "cell_type": "code",
   "execution_count": 4,
   "id": "0bf021eb-2d58-4521-a8ff-41aa3fb38204",
   "metadata": {
    "tags": []
   },
   "outputs": [],
   "source": [
    "#create our city df:\n",
    "city_df = pd.DataFrame(columns = [\"city\",\"country\",\"population\",\"latitude\",\"longitude\"])#.set_index(\"city\")"
   ]
  },
  {
   "cell_type": "code",
   "execution_count": 5,
   "id": "dddaaba4-121b-4a0d-8460-e592c2a569e4",
   "metadata": {
    "tags": []
   },
   "outputs": [],
   "source": [
    "def citygrab2(city):\n",
    "    #create our city df:\n",
    "    #city_df = pd.DataFrame(columns = [\"city\",\"country\",\"population\",\"latitude\",\"longitude\"])#.set_index(\"city\")\n",
    "    url = \"https://en.wikipedia.org/wiki/\"+city\n",
    "    response = requests.get(url)\n",
    "    soup_city = BeautifulSoup(response.content, 'html.parser')\n",
    "    for header in soup_city.find_all(class_=\"infobox-header\"):\n",
    "        if header.find(string=re.compile(\"population\", re.IGNORECASE)):\n",
    "            popu = header.find_next(class_=\"infobox-data\").text\n",
    "            \n",
    "#soup_city.find_all(class_=\"mergedtoprow\")\n",
    "    for merger in soup_city.find_all(class_=\"mergedtoprow\"):\n",
    "        if merger.find(string=re.compile(\"country\", re.IGNORECASE)):\n",
    "            country = merger.find_next(class_=\"infobox-data\").text\n",
    "            \n",
    "    for merger in soup_city.find_all(class_=\"mergedrow\"):    # different hirarchy for london\n",
    "        if merger.find(string=re.compile(\"country\", re.IGNORECASE)):\n",
    "            country = merger.find_next(class_=\"infobox-data\").text\n",
    "    \n",
    "    #soup_city.find_all(class_=\"infobox-full-data\")\n",
    "    for coords in soup_city.find_all(class_=\"infobox-full-data\"):\n",
    "        if coords.find(string=re.compile(\"Coordinates\", re.IGNORECASE)):\n",
    "            lati = coords.find_next(class_=\"latitude\").text\n",
    "            longi = coords.find_next(class_=\"longitude\").text\n",
    "            \n",
    "    city_df.loc[len(city_df)]=({\"city\":str.capitalize(city), \"country\":country,\"population\":popu,\"latitude\":lati,\"longitude\":longi})\n",
    "    return city_df"
   ]
  },
  {
   "cell_type": "code",
   "execution_count": 6,
   "id": "c90821f0-fe8b-4dec-bb0c-018ea5ba7af1",
   "metadata": {
    "tags": []
   },
   "outputs": [],
   "source": [
    "citygrab2(\"Berlin\")\n",
    "city = citygrab2(\"London\")"
   ]
  },
  {
   "cell_type": "code",
   "execution_count": 7,
   "id": "f6bc5564-4ad4-4c99-a148-6a1e183e4442",
   "metadata": {
    "tags": []
   },
   "outputs": [
    {
     "data": {
      "text/html": [
       "<div>\n",
       "<style scoped>\n",
       "    .dataframe tbody tr th:only-of-type {\n",
       "        vertical-align: middle;\n",
       "    }\n",
       "\n",
       "    .dataframe tbody tr th {\n",
       "        vertical-align: top;\n",
       "    }\n",
       "\n",
       "    .dataframe thead th {\n",
       "        text-align: right;\n",
       "    }\n",
       "</style>\n",
       "<table border=\"1\" class=\"dataframe\">\n",
       "  <thead>\n",
       "    <tr style=\"text-align: right;\">\n",
       "      <th></th>\n",
       "      <th>city</th>\n",
       "      <th>country</th>\n",
       "      <th>population</th>\n",
       "      <th>latitude</th>\n",
       "      <th>longitude</th>\n",
       "    </tr>\n",
       "  </thead>\n",
       "  <tbody>\n",
       "    <tr>\n",
       "      <th>0</th>\n",
       "      <td>Berlin</td>\n",
       "      <td>Germany</td>\n",
       "      <td>3755251</td>\n",
       "      <td>52°31′12″N</td>\n",
       "      <td>13°24′18″E</td>\n",
       "    </tr>\n",
       "    <tr>\n",
       "      <th>1</th>\n",
       "      <td>London</td>\n",
       "      <td>England</td>\n",
       "      <td>8799800</td>\n",
       "      <td>51°30′26″N</td>\n",
       "      <td>0°7′39″W</td>\n",
       "    </tr>\n",
       "  </tbody>\n",
       "</table>\n",
       "</div>"
      ],
      "text/plain": [
       "     city  country  population    latitude   longitude\n",
       "0  Berlin  Germany     3755251  52°31′12″N  13°24′18″E\n",
       "1  London  England     8799800  51°30′26″N    0°7′39″W"
      ]
     },
     "execution_count": 7,
     "metadata": {},
     "output_type": "execute_result"
    }
   ],
   "source": [
    "#Fix the problem with population numbers ([1]for london, and replace the commas for both)\n",
    "city['population'] = city['population'].str.replace('[1]','')\n",
    "city['population'] = city['population'].str.replace(',','')\n",
    "city[\"population\"] = pd.to_numeric(city[\"population\"])\n",
    "city"
   ]
  },
  {
   "cell_type": "markdown",
   "id": "d760317c-c2af-4e1c-aab7-17de46d5c73d",
   "metadata": {
    "tags": []
   },
   "source": [
    "#### Create conection to SQL cloud"
   ]
  },
  {
   "cell_type": "code",
   "execution_count": 11,
   "id": "b80ed652-4800-4617-86b0-30a6ce0feba5",
   "metadata": {
    "tags": []
   },
   "outputs": [],
   "source": [
    "schema = \"gans\"\n",
    "host = \"34.140.215.38\"\n",
    "user = \"root\"\n",
    "password = sam_stuff_cloud.instance_pass\n",
    "port = 3306\n",
    "\n",
    "connection_string = f'mysql+pymysql://{user}:{password}@{host}:{port}/{schema}'"
   ]
  },
  {
   "cell_type": "markdown",
   "id": "7453e28d-91c0-4a06-90c2-84cc3a52b44b",
   "metadata": {},
   "source": [
    "#### Send data to SQL cloud"
   ]
  },
  {
   "cell_type": "code",
   "execution_count": 13,
   "id": "e7e8c214-55c4-4238-a87e-439ee4f10157",
   "metadata": {
    "tags": []
   },
   "outputs": [
    {
     "data": {
      "text/plain": [
       "2"
      ]
     },
     "execution_count": 13,
     "metadata": {},
     "output_type": "execute_result"
    }
   ],
   "source": [
    "city.to_sql(name='city',if_exists='append',con=connection_string,index=False)"
   ]
  },
  {
   "cell_type": "markdown",
   "id": "87bcad93-28a2-4f2c-88bd-bf34da47e80d",
   "metadata": {},
   "source": [
    "## Airport"
   ]
  },
  {
   "cell_type": "code",
   "execution_count": 24,
   "id": "7b552d83-bd54-4351-9e78-6148b7b273ed",
   "metadata": {
    "tags": []
   },
   "outputs": [
    {
     "data": {
      "text/html": [
       "<div>\n",
       "<style scoped>\n",
       "    .dataframe tbody tr th:only-of-type {\n",
       "        vertical-align: middle;\n",
       "    }\n",
       "\n",
       "    .dataframe tbody tr th {\n",
       "        vertical-align: top;\n",
       "    }\n",
       "\n",
       "    .dataframe thead th {\n",
       "        text-align: right;\n",
       "    }\n",
       "</style>\n",
       "<table border=\"1\" class=\"dataframe\">\n",
       "  <thead>\n",
       "    <tr style=\"text-align: right;\">\n",
       "      <th></th>\n",
       "      <th>city_id</th>\n",
       "      <th>city</th>\n",
       "      <th>country</th>\n",
       "      <th>population</th>\n",
       "      <th>latitude</th>\n",
       "      <th>longitude</th>\n",
       "    </tr>\n",
       "  </thead>\n",
       "  <tbody>\n",
       "    <tr>\n",
       "      <th>0</th>\n",
       "      <td>1</td>\n",
       "      <td>Berlin</td>\n",
       "      <td>Germany</td>\n",
       "      <td>3755251</td>\n",
       "      <td>52°31′12″N</td>\n",
       "      <td>13°24′18″E</td>\n",
       "    </tr>\n",
       "    <tr>\n",
       "      <th>1</th>\n",
       "      <td>2</td>\n",
       "      <td>London</td>\n",
       "      <td>England</td>\n",
       "      <td>8799800</td>\n",
       "      <td>51°30′26″N</td>\n",
       "      <td>0°7′39″W</td>\n",
       "    </tr>\n",
       "  </tbody>\n",
       "</table>\n",
       "</div>"
      ],
      "text/plain": [
       "   city_id    city  country  population    latitude   longitude\n",
       "0        1  Berlin  Germany     3755251  52°31′12″N  13°24′18″E\n",
       "1        2  London  England     8799800  51°30′26″N    0°7′39″W"
      ]
     },
     "execution_count": 24,
     "metadata": {},
     "output_type": "execute_result"
    }
   ],
   "source": [
    "cities_df = pd.read_sql('city',con=connection_string)\n",
    "cities_df"
   ]
  },
  {
   "cell_type": "code",
   "execution_count": 27,
   "id": "45391710-ee2e-425a-a9a0-e9cc9df243ba",
   "metadata": {
    "tags": []
   },
   "outputs": [],
   "source": [
    "# create dictionary for airport\n",
    "airports_dict = {'ICAO':[],'city_id':[]}\n",
    "\n",
    "icao_dict = { 'Berlin':'EDDB',\n",
    "             'London':'EGLL' }\n",
    "\n",
    "# connect city id with icao, looping through the dataframe with df.iterrows:\n",
    "for i, row in cities_df.iterrows():\n",
    "    airports_dict['city_id'].append(row['city_id'])  \n",
    "    airports_dict['ICAO'].append(icao_dict[row['city']])"
   ]
  },
  {
   "cell_type": "code",
   "execution_count": 35,
   "id": "7e60470b-cee5-48e0-961e-5d24dcda7094",
   "metadata": {
    "tags": []
   },
   "outputs": [
    {
     "data": {
      "text/html": [
       "<div>\n",
       "<style scoped>\n",
       "    .dataframe tbody tr th:only-of-type {\n",
       "        vertical-align: middle;\n",
       "    }\n",
       "\n",
       "    .dataframe tbody tr th {\n",
       "        vertical-align: top;\n",
       "    }\n",
       "\n",
       "    .dataframe thead th {\n",
       "        text-align: right;\n",
       "    }\n",
       "</style>\n",
       "<table border=\"1\" class=\"dataframe\">\n",
       "  <thead>\n",
       "    <tr style=\"text-align: right;\">\n",
       "      <th></th>\n",
       "      <th>ICAO</th>\n",
       "      <th>city_id</th>\n",
       "    </tr>\n",
       "  </thead>\n",
       "  <tbody>\n",
       "    <tr>\n",
       "      <th>0</th>\n",
       "      <td>EDDB</td>\n",
       "      <td>1</td>\n",
       "    </tr>\n",
       "    <tr>\n",
       "      <th>1</th>\n",
       "      <td>EGLL</td>\n",
       "      <td>2</td>\n",
       "    </tr>\n",
       "  </tbody>\n",
       "</table>\n",
       "</div>"
      ],
      "text/plain": [
       "   ICAO  city_id\n",
       "0  EDDB        1\n",
       "1  EGLL        2"
      ]
     },
     "execution_count": 35,
     "metadata": {},
     "output_type": "execute_result"
    }
   ],
   "source": [
    "airports_df = pd.DataFrame(airports_dict)\n",
    "airports_df"
   ]
  },
  {
   "cell_type": "markdown",
   "id": "cd44ed3e-7ec9-49a4-99db-490456264ad2",
   "metadata": {},
   "source": [
    "#### Send data to SQL cloud"
   ]
  },
  {
   "cell_type": "code",
   "execution_count": 39,
   "id": "27c18cd0-5c1b-4a95-97e9-aec14bcf269f",
   "metadata": {
    "tags": []
   },
   "outputs": [
    {
     "data": {
      "text/plain": [
       "2"
      ]
     },
     "execution_count": 39,
     "metadata": {},
     "output_type": "execute_result"
    }
   ],
   "source": [
    "airports_df.to_sql('airport',if_exists='append',index=False, con=connection_string)"
   ]
  }
 ],
 "metadata": {
  "kernelspec": {
   "display_name": "Python 3 (ipykernel)",
   "language": "python",
   "name": "python3"
  },
  "language_info": {
   "codemirror_mode": {
    "name": "ipython",
    "version": 3
   },
   "file_extension": ".py",
   "mimetype": "text/x-python",
   "name": "python",
   "nbconvert_exporter": "python",
   "pygments_lexer": "ipython3",
   "version": "3.11.7"
  }
 },
 "nbformat": 4,
 "nbformat_minor": 5
}
