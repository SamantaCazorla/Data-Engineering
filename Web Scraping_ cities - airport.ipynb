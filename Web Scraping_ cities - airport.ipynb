{
 "cells": [
  {
   "cell_type": "code",
   "execution_count": 2,
   "id": "9e175aae-c4f5-408e-a35e-49b659946cab",
   "metadata": {
    "tags": []
   },
   "outputs": [],
   "source": [
    "import pandas as pd\n",
    "from bs4 import BeautifulSoup\n",
    "import requests\n",
    "import re\n",
    "import sam_stuff"
   ]
  },
  {
   "cell_type": "markdown",
   "id": "98e7abe1-b902-44e0-b113-dedc7de0d86a",
   "metadata": {
    "tags": []
   },
   "source": [
    "## Get City data"
   ]
  },
  {
   "cell_type": "markdown",
   "id": "1fec6358-ec89-44e3-bb3b-04dfa595c943",
   "metadata": {
    "tags": []
   },
   "source": [
    "### Step 1 - Get the data"
   ]
  },
  {
   "cell_type": "code",
   "execution_count": 9,
   "id": "e2f11326-04f0-44a5-86df-b7a6ef6421ba",
   "metadata": {
    "tags": []
   },
   "outputs": [
    {
     "data": {
      "text/html": [
       "<div>\n",
       "<style scoped>\n",
       "    .dataframe tbody tr th:only-of-type {\n",
       "        vertical-align: middle;\n",
       "    }\n",
       "\n",
       "    .dataframe tbody tr th {\n",
       "        vertical-align: top;\n",
       "    }\n",
       "\n",
       "    .dataframe thead th {\n",
       "        text-align: right;\n",
       "    }\n",
       "</style>\n",
       "<table border=\"1\" class=\"dataframe\">\n",
       "  <thead>\n",
       "    <tr style=\"text-align: right;\">\n",
       "      <th></th>\n",
       "      <th>city</th>\n",
       "      <th>country</th>\n",
       "      <th>population</th>\n",
       "      <th>latitude</th>\n",
       "      <th>longitude</th>\n",
       "    </tr>\n",
       "  </thead>\n",
       "  <tbody>\n",
       "    <tr>\n",
       "      <th>0</th>\n",
       "      <td>Berlin</td>\n",
       "      <td>Germany</td>\n",
       "      <td>3755251</td>\n",
       "      <td>52°31′12″N</td>\n",
       "      <td>13°24′18″E</td>\n",
       "    </tr>\n",
       "    <tr>\n",
       "      <th>1</th>\n",
       "      <td>London</td>\n",
       "      <td>England</td>\n",
       "      <td>8799800</td>\n",
       "      <td>51°30′26″N</td>\n",
       "      <td>0°7′39″W</td>\n",
       "    </tr>\n",
       "  </tbody>\n",
       "</table>\n",
       "</div>"
      ],
      "text/plain": [
       "     city  country  population    latitude   longitude\n",
       "0  Berlin  Germany     3755251  52°31′12″N  13°24′18″E\n",
       "1  London  England     8799800  51°30′26″N    0°7′39″W"
      ]
     },
     "execution_count": 9,
     "metadata": {},
     "output_type": "execute_result"
    }
   ],
   "source": [
    "# Create an empty DataFrame with specified columns to store city data:\n",
    "city_df = pd.DataFrame(columns = [\"city\",\"country\",\"population\",\"latitude\",\"longitude\"]) \n",
    "\n",
    "def citygrab2(city):\n",
    "    # Build the Wikipedia URL for the given city\n",
    "    url = \"https://en.wikipedia.org/wiki/\"+city\n",
    "    # Send an HTTP GET request to the URL\n",
    "    response = requests.get(url)\n",
    "    # Parse the HTML content of the page with BeautifulSoup\n",
    "    soup_city = BeautifulSoup(response.content, 'html.parser')\n",
    "    \n",
    "    # Find the population data in the infobox\n",
    "    for header in soup_city.find_all(class_=\"infobox-header\"):\n",
    "        if header.find(string=re.compile(\"population\", re.IGNORECASE)):\n",
    "            popu = header.find_next(class_=\"infobox-data\").text\n",
    "    \n",
    "    # Find the country data in the infobox        \n",
    "    for merger in soup_city.find_all(class_=\"mergedtoprow\"):\n",
    "        if merger.find(string=re.compile(\"country\", re.IGNORECASE)):\n",
    "            country = merger.find_next(class_=\"infobox-data\").text\n",
    "    \n",
    "    # Find the country data for different page structure (e.g., London)        \n",
    "    for merger in soup_city.find_all(class_=\"mergedrow\"):    \n",
    "        if merger.find(string=re.compile(\"country\", re.IGNORECASE)):\n",
    "            country = merger.find_next(class_=\"infobox-data\").text\n",
    "    \n",
    "    # Find the coordinates data in the infobox\n",
    "    for coords in soup_city.find_all(class_=\"infobox-full-data\"):\n",
    "        if coords.find(string=re.compile(\"Coordinates\", re.IGNORECASE)):\n",
    "            lati = coords.find_next(class_=\"latitude\").text\n",
    "            longi = coords.find_next(class_=\"longitude\").text\n",
    "   \n",
    "    # Add the extracted data to the DataFrame        \n",
    "    city_df.loc[len(city_df)]=({\"city\":str.capitalize(city), \"country\":country,\"population\":popu,\"latitude\":lati,\"longitude\":longi})\n",
    "   \n",
    "    return city_df\n",
    "\n",
    "# Example usage: Fetch and add data for Berlin, and London\n",
    "citygrab2(\"Berlin\")\n",
    "city = citygrab2(\"London\")\n",
    "# Clean up the population data: remove references and commas, convert to numeric\n",
    "city['population'] = city['population'].str.replace('[1]','').str.replace(',','')\n",
    "city[\"population\"] = pd.to_numeric(city[\"population\"])\n",
    "# Display the DataFrame\n",
    "city"
   ]
  },
  {
   "cell_type": "markdown",
   "id": "f4290122-6587-47fe-a75c-b206388e1613",
   "metadata": {
    "tags": []
   },
   "source": [
    "### Step 2 - create a conection string"
   ]
  },
  {
   "cell_type": "code",
   "execution_count": 21,
   "id": "14dc3c04-3363-4c7b-b1b7-af789e17c0ef",
   "metadata": {
    "tags": []
   },
   "outputs": [],
   "source": [
    "schema = \"gans\"\n",
    "host = \"127.0.0.1\"\n",
    "user = \"root\"\n",
    "password = sam_stuff.my_sql_password\n",
    "port = 3306\n",
    "\n",
    "connection_string = f'mysql+pymysql://{user}:{password}@{host}:{port}/{schema}'"
   ]
  },
  {
   "cell_type": "markdown",
   "id": "0daf9e06-c06d-48cf-a14a-e3fb9d46324e",
   "metadata": {},
   "source": [
    "### Step 3 - Send data to mySQL"
   ]
  },
  {
   "cell_type": "code",
   "execution_count": null,
   "id": "80aeb1a5-b3f8-4449-8529-5419df4435ee",
   "metadata": {},
   "outputs": [],
   "source": [
    "city.to_sql(name='city',if_exists='append',con=connection_string,index=False)"
   ]
  },
  {
   "cell_type": "markdown",
   "id": "58276a9d-dc11-4cc1-9e6d-f6d9bc5c87fb",
   "metadata": {},
   "source": [
    "## Get the airport data"
   ]
  },
  {
   "cell_type": "code",
   "execution_count": null,
   "id": "66dbb5c5-b214-49ac-a183-c147b55575ac",
   "metadata": {},
   "outputs": [],
   "source": [
    "#Fetch the city data from the database and load it into a DataFrame\n",
    "cities_df = pd.read_sql('city',con=connection_string)\n",
    "\n",
    "# Create a dictionary to store airport data\n",
    "airports_dict = {'ICAO':[],'city_id':[]}\n",
    "\n",
    "# Define a dictionary mapping city names to their respective ICAO codes\n",
    "icao_dict = { 'Berlin':'EDDB',\n",
    "             'London':'EGLL' }\n",
    "\n",
    "# Iterate through the DataFrame to populate the airports_dict and append the city_id and ICAO to the dictionary\n",
    "for i, row in cities_df.iterrows():\n",
    "    airports_dict['city_id'].append(row['city_id'])  \n",
    "    airports_dict['ICAO'].append(icao_dict[row['city']])\n",
    "\n",
    "# Convert the dictionary into a DataFrame:\n",
    "airports_df = pd.DataFrame(airports_dict)\n",
    "\n",
    "# Display resulting DataFrame:\n",
    "airports_df"
   ]
  },
  {
   "cell_type": "markdown",
   "id": "d70532d9-9a34-4e57-8567-a61bfa595c43",
   "metadata": {},
   "source": [
    "### Send data to SQL"
   ]
  },
  {
   "cell_type": "code",
   "execution_count": null,
   "id": "3cfca68b-286c-4f30-9a8e-672d1c230ac0",
   "metadata": {},
   "outputs": [],
   "source": [
    "#airports_df.to_sql('airport',if_exists='append',index=False, con=connection_string)"
   ]
  }
 ],
 "metadata": {
  "kernelspec": {
   "display_name": "Python 3 (ipykernel)",
   "language": "python",
   "name": "python3"
  },
  "language_info": {
   "codemirror_mode": {
    "name": "ipython",
    "version": 3
   },
   "file_extension": ".py",
   "mimetype": "text/x-python",
   "name": "python",
   "nbconvert_exporter": "python",
   "pygments_lexer": "ipython3",
   "version": "3.11.7"
  }
 },
 "nbformat": 4,
 "nbformat_minor": 5
}
